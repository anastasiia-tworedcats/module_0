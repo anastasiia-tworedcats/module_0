{
 "cells": [
  {
   "cell_type": "code",
   "execution_count": 1,
   "metadata": {},
   "outputs": [],
   "source": [
    "import numpy as np\n",
    "number = np.random.randint(1,101)\n",
    "\n",
    "def game_core_v1(number):\n",
    "    count = 0\n",
    "    \n",
    "    n = 15\n",
    "    i = 30\n",
    "    v = 45\n",
    "    c = 60\n",
    "    m = 75\n",
    "    while True:\n",
    "        if n > number:\n",
    "            n -= 1\n",
    "            count += 1\n",
    "            \n",
    "        elif n < number and i > number:\n",
    "            n += 1\n",
    "            count += 1\n",
    "        \n",
    "        elif i < number and v > number:\n",
    "            i += 1\n",
    "            count += 1\n",
    "            \n",
    "        elif v < number and c > number:\n",
    "            v += 1\n",
    "            count += 1\n",
    "        \n",
    "        elif c < number and m > number: \n",
    "            c += 1\n",
    "            count += 1\n",
    "\n",
    "        elif m < number:\n",
    "            m += 1\n",
    "            count+= 1\n",
    "            \n",
    "    if number == n or number == i or number == v or number == c or number == m:\n",
    "   \n",
    "   \n",
    "        return count # выход из цикла, если угадали\n",
    "    "
   ]
  },
  {
   "cell_type": "code",
   "execution_count": null,
   "metadata": {},
   "outputs": [],
   "source": [
    "game_core_v1(number)"
   ]
  },
  {
   "cell_type": "code",
   "execution_count": null,
   "metadata": {},
   "outputs": [],
   "source": [
    "def score_game(game_core):\n",
    "    '''Запускаем игру 1000 раз, чтобы узнать, как быстро игра угадывает число'''\n",
    "    count_ls = []\n",
    "    np.random.seed(1)  # фиксируем RANDOM SEED, чтобы ваш эксперимент был воспроизводим!\n",
    "    random_array = np.random.randint(1,101, size=(1000))\n",
    "    for number in random_array:\n",
    "        count_ls.append(game_core(number))\n",
    "    score = int(np.mean(count_ls))\n",
    "    print(f\"Ваш алгоритм угадывает число в среднем за {score} попыток\")\n",
    "    return(score)"
   ]
  },
  {
   "cell_type": "code",
   "execution_count": null,
   "metadata": {},
   "outputs": [],
   "source": [
    "score_game(game_core_v1)"
   ]
  },
  {
   "cell_type": "code",
   "execution_count": null,
   "metadata": {},
   "outputs": [],
   "source": []
  }
 ],
 "metadata": {
  "kernelspec": {
   "display_name": "Python 3",
   "language": "python",
   "name": "python3"
  },
  "language_info": {
   "codemirror_mode": {
    "name": "ipython",
    "version": 3
   },
   "file_extension": ".py",
   "mimetype": "text/x-python",
   "name": "python",
   "nbconvert_exporter": "python",
   "pygments_lexer": "ipython3",
   "version": "3.8.5"
  }
 },
 "nbformat": 4,
 "nbformat_minor": 4
}
